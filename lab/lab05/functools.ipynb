{
 "cells": [
  {
   "cell_type": "code",
   "execution_count": 1,
   "id": "abb5ed7f",
   "metadata": {},
   "outputs": [
    {
     "name": "stdout",
     "output_type": "stream",
     "text": [
      "慢速版本耗时: 1.2689 秒\n",
      "快速版本第一次调用耗时: 0.0001 秒\n",
      "快速版本第二次调用耗时: 0.0000438690 秒\n"
     ]
    }
   ],
   "source": [
    "import functools\n",
    "import time\n",
    "\n",
    "\n",
    "# 未使用缓存的版本\n",
    "def fibonacci_slow(n):\n",
    "    if n < 2:\n",
    "        return n\n",
    "    return fibonacci_slow(n - 1) + fibonacci_slow(n - 2)\n",
    "\n",
    "\n",
    "# 使用缓存的版本\n",
    "@functools.lru_cache(maxsize=None)  # maxsize=None 表示缓存无限大\n",
    "def fibonacci_fast(n):\n",
    "    if n < 2:\n",
    "        return n\n",
    "    return fibonacci_fast(n - 1) + fibonacci_fast(n - 2)\n",
    "\n",
    "\n",
    "# --- 性能对比 ---\n",
    "start = time.time()\n",
    "fibonacci_slow(35)\n",
    "print(f\"慢速版本耗时: {time.time() - start:.4f} 秒\")\n",
    "\n",
    "start = time.time()\n",
    "fibonacci_fast(35)  # 第一次调用，会计算并缓存\n",
    "print(f\"快速版本第一次调用耗时: {time.time() - start:.4f} 秒\")\n",
    "\n",
    "start = time.time()\n",
    "fibonacci_fast(35)  # 第二次调用，直接从缓存读取，几乎不耗时\n",
    "print(f\"快速版本第二次调用耗时: {time.time() - start:.10f} 秒\")"
   ]
  },
  {
   "cell_type": "code",
   "execution_count": 4,
   "id": "20d5a5c5",
   "metadata": {},
   "outputs": [
    {
     "name": "stdout",
     "output_type": "stream",
     "text": [
      "1 + 1 + 1 + 1 + 1 + 1\n",
      "1 + 1 + 1 + 1 + 2\n",
      "1 + 1 + 1 + 3\n",
      "1 + 1 + 2 + 2\n",
      "1 + 1 + 4\n",
      "1 + 2 + 3\n",
      "2 + 2 + 2\n",
      "2 + 4\n",
      "3 + 3\n"
     ]
    }
   ],
   "source": [
    "def partition_gen(N, limit):\n",
    "    assert N > 0 and limit > 0\n",
    "    if N == limit:\n",
    "        # 把最简单的情况先找出来：4个积木，搭一个高为4的塔\n",
    "        yield str(limit)\n",
    "    if N - limit > 0:\n",
    "        # 如果N比limit大，就先搭一个高为limit的塔，剩下的递归\n",
    "        for p in partition_gen(N - limit, limit):\n",
    "            yield f\"{p} + {limit}\"\n",
    "    if limit > 1:\n",
    "        # 这里要讨论不用limit这么高的情况，也就是limit-1高\n",
    "        yield from partition_gen(N, limit - 1)\n",
    "        \n",
    "for partition in sorted(partition_gen(6, 4)):\n",
    "    print(partition)"
   ]
  }
 ],
 "metadata": {
  "kernelspec": {
   "display_name": "base",
   "language": "python",
   "name": "python3"
  },
  "language_info": {
   "codemirror_mode": {
    "name": "ipython",
    "version": 3
   },
   "file_extension": ".py",
   "mimetype": "text/x-python",
   "name": "python",
   "nbconvert_exporter": "python",
   "pygments_lexer": "ipython3",
   "version": "3.13.2"
  }
 },
 "nbformat": 4,
 "nbformat_minor": 5
}

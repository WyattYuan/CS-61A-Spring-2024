{
 "cells": [
  {
   "cell_type": "code",
   "execution_count": 16,
   "id": "de03304b",
   "metadata": {},
   "outputs": [
    {
     "name": "stdout",
     "output_type": "stream",
     "text": [
      "Current time: 2025-07-14 19:23:10.489684\n",
      "Current formatted time: 2025-07-14 19:23:10\n",
      "Sometime: 2023-10-01 12:00:00\n"
     ]
    }
   ],
   "source": [
    "from datetime import datetime, timedelta\n",
    "\n",
    "now = datetime.now()\n",
    "\n",
    "print(\"Current time:\", now)\n",
    "print(\"Current formatted time:\", now.strftime(\"%Y-%m-%d %H:%M:%S\"))\n",
    "sometime = datetime.strptime(\"2023-10-01 12:00:00\", \"%Y-%m-%d %H:%M:%S\")\n",
    "print(\"Sometime:\", sometime)"
   ]
  },
  {
   "cell_type": "markdown",
   "id": "84436120",
   "metadata": {},
   "source": [
    "Python 提供了 is 和 is not 两种比较操作符来验证两个变量是否指向同一个对象。如果两个对象的值完全相等，则说明它们两个是同一个对象，对其中任意一个对象的改动都将影响到另外一个。身份验证比简单的相等验证更准确。\n",
    "\n",
    "is 和 == 的区别。前者是检验的是对象的内存地址，而后者只是判断内容是否相同。"
   ]
  },
  {
   "cell_type": "code",
   "execution_count": 17,
   "id": "69654661",
   "metadata": {},
   "outputs": [
    {
     "name": "stdout",
     "output_type": "stream",
     "text": [
      "Modified tuple2: (1, 2, [3])\n"
     ]
    }
   ],
   "source": [
    "tuple1 = (1, 2, 3)  # can not be modified\n",
    "tuple2 = (1, 2, [3, 4])\n",
    "tuple2[2].pop()  # can modify the list inside the tuple\n",
    "print(\"Modified tuple2:\", tuple2)"
   ]
  },
  {
   "cell_type": "code",
   "execution_count": 26,
   "id": "3caddc21",
   "metadata": {},
   "outputs": [
    {
     "name": "stdout",
     "output_type": "stream",
     "text": [
      "1\n",
      "Key not found\n",
      "{0, 1, 2, 3, 4}\n"
     ]
    }
   ],
   "source": [
    "# dictionary example\n",
    "dict1 = {\"a\": 1, \"b\": 2}\n",
    "print(dict1.get(\"a\"))  # Accessing value by key\n",
    "print(dict1.get(\"c\", \"Key not found\"))  # Default value if key not found\n",
    "print({x for x in range(5)})  # Dictionary comprehension"
   ]
  },
  {
   "cell_type": "code",
   "execution_count": null,
   "id": "ce412eca",
   "metadata": {},
   "outputs": [
    {
     "name": "stdout",
     "output_type": "stream",
     "text": [
      "Inner function: Cerydra\n",
      "Outer function: Cerydra\n"
     ]
    }
   ],
   "source": [
    "# nonlocal\n",
    "\n",
    "def outer_function():\n",
    "    x = \"Firefly\"\n",
    "\n",
    "    def inner_function():\n",
    "        nonlocal x\n",
    "        x = \"Cerydra\"\n",
    "        print(\"Inner function:\", x)\n",
    "\n",
    "    inner_function()\n",
    "    print(\"Outer function:\", x)\n",
    "\n",
    "outer_function()"
   ]
  },
  {
   "cell_type": "code",
   "execution_count": null,
   "id": "01f852df",
   "metadata": {},
   "outputs": [
    {
     "name": "stdout",
     "output_type": "stream",
     "text": [
      "Fuck you, you don't have enough money\n",
      "From 100 withdraw 20 and 80 remains\n",
      "From 80 withdraw 80 and 0 remains\n",
      "Fuck you, you don't have enough money\n"
     ]
    }
   ],
   "source": [
    "def make_withdraw(balance):\n",
    "    def withdraw(x):\n",
    "        nonlocal balance  # You can try commenting this out\n",
    "        if x > balance:\n",
    "            print(\"Fuck you, you don't have enough money\")\n",
    "            return\n",
    "        print(\"From\", balance, \"withdraw\", x, \"and\", balance - x, \"remains\")\n",
    "        balance = balance - x\n",
    "\n",
    "    return withdraw\n",
    "\n",
    "\n",
    "withdraw = make_withdraw(100)\n",
    "withdraw(101)\n",
    "withdraw(20)\n",
    "withdraw(80)\n",
    "withdraw(10)"
   ]
  },
  {
   "cell_type": "code",
   "execution_count": 35,
   "id": "986c024a",
   "metadata": {},
   "outputs": [
    {
     "name": "stdout",
     "output_type": "stream",
     "text": [
      "原始列表: [1, 2, 3, 4, 5]\n",
      "平方后的列表: [1, 4, 9, 16, 25]\n",
      "按第二个元素排序后的列表: [(5, 0), (3, 1), (1, 2)]\n"
     ]
    }
   ],
   "source": [
    "# lambda函数示例：用于对列表中的每个元素进行平方运算\n",
    "numbers = [1, 2, 3, 4, 5]\n",
    "squared = list(map(lambda x: x ** 2, numbers))\n",
    "print(\"原始列表:\", numbers)\n",
    "print(\"平方后的列表:\", squared)\n",
    "\n",
    "# lambda函数还可以用于排序\n",
    "pairs = [(1, 2), (3, 1), (5, 0)]\n",
    "sorted_pairs = sorted(pairs, key=lambda x: x[1])\n",
    "print(\"按第二个元素排序后的列表:\", sorted_pairs)"
   ]
  },
  {
   "cell_type": "code",
   "execution_count": 44,
   "id": "e7195cd1",
   "metadata": {},
   "outputs": [
    {
     "name": "stdout",
     "output_type": "stream",
     "text": [
      "<map object at 0x0000029070025B40>\n",
      "使用 map 得到的平方列表: [1, 4, 9, 16, 25]\n"
     ]
    }
   ],
   "source": [
    "# map 是 Python 内置的高阶函数，用于将指定函数作用于可迭代对象的每个元素，并返回一个迭代器。\n",
    "# 例如，下面代码将 numbers 列表中的每个元素平方：\n",
    "\n",
    "squared_by_map_address = map(lambda x: x ** 2, numbers)\n",
    "squared_by_map = list(map(lambda x: x**2, numbers))\n",
    "\n",
    "print(squared_by_map_address)\n",
    "print(\"使用 map 得到的平方列表:\", squared_by_map)\n",
    "\n",
    "# map 的基本语法：map(function, iterable)\n",
    "# 它不会修改原始数据，而是返回一个新的迭代器对象。"
   ]
  },
  {
   "cell_type": "code",
   "execution_count": null,
   "id": "de699b5a",
   "metadata": {},
   "outputs": [],
   "source": [
    "# Propagating Constraints\n",
    "# 9 * C = 5 * (F - 32)\n",
    "def celsius():\n",
    "    return\n",
    "\n",
    "\n",
    "def fahrenheit():\n",
    "    return\n",
    "\n",
    "def connector():\n",
    "    \"\"\"创建一个连接器,用于连接两个约束条件.\"\"\"\n",
    "    return lambda x: x  # Placeholder for a connector function\n",
    "\n",
    "def multiplier(a, b, c):\n",
    "    return lambda x: a(x) * b(x) == c(x)\n",
    "\n",
    "def adder(a, b, c):\n",
    "    return lambda x: a(x) + b(x) == c(x)\n",
    "\n",
    "def constant(value, c):\n",
    "    \"\"\"创建一个常量约束条件.\"\"\"\n",
    "    return lambda x: c(x) == value\n",
    "\n",
    "def converter(c, f):\n",
    "    \"\"\"用约束条件连接 c 到 f,将摄氏度转换为华氏度.\"\"\"\n",
    "    u, v, w, x, y = [connector() for _ in range(5)]\n",
    "    multiplier(c, w, u)\n",
    "    multiplier(v, x, u)\n",
    "    adder(v, y, f)\n",
    "    constant(w, 9)\n",
    "    constant(x, 5)\n",
    "    constant(y, 32)"
   ]
  },
  {
   "cell_type": "code",
   "execution_count": null,
   "id": "f00bbc0e",
   "metadata": {},
   "outputs": [],
   "source": [
    "def connector(name=None):\n",
    "    \"\"\"限制条件之间的连接器\"\"\"\n",
    "    informant = None\n",
    "    constraints = []\n",
    "\n",
    "    def set_value(source, value):\n",
    "        nonlocal informant\n",
    "        val = connector[\"val\"]\n",
    "        if val is None:\n",
    "            informant, connector[\"val\"] = source, value\n",
    "            if name is not None:\n",
    "                print(name, \"=\", value)\n",
    "            inform_all_except(source, \"new_val\", constraints)\n",
    "        else:\n",
    "            if val != value:\n",
    "                print(\"Contradiction detected:\", val, \"vs\", value)\n",
    "\n",
    "    def forget_value(source):\n",
    "        nonlocal informant\n",
    "        if informant == source:\n",
    "            informant, connector[\"val\"] = None, None\n",
    "            if name is not None:\n",
    "                print(name, \"is forgotten\")\n",
    "            inform_all_except(source, \"forget\", constraints)\n",
    "\n",
    "    connector = {\n",
    "        \"val\": None,\n",
    "        \"set_val\": set_value,\n",
    "        \"forget\": forget_value,\n",
    "        \"has_val\": lambda: connector[\"val\"] is not None,\n",
    "        \"connect\": lambda source: constraints.append(source),\n",
    "    }\n",
    "    return connector"
   ]
  }
 ],
 "metadata": {
  "kernelspec": {
   "display_name": "base",
   "language": "python",
   "name": "python3"
  },
  "language_info": {
   "codemirror_mode": {
    "name": "ipython",
    "version": 3
   },
   "file_extension": ".py",
   "mimetype": "text/x-python",
   "name": "python",
   "nbconvert_exporter": "python",
   "pygments_lexer": "ipython3",
   "version": "3.12.7"
  }
 },
 "nbformat": 4,
 "nbformat_minor": 5
}

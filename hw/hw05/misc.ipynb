{
 "cells": [
  {
   "cell_type": "code",
   "execution_count": null,
   "id": "5b40ca6d",
   "metadata": {},
   "outputs": [],
   "source": [
    "prime = [2,3,5,7]\n",
    "iterator = iter(prime)\n",
    "print(type(iterator))\n",
    "next(iterator)"
   ]
  },
  {
   "cell_type": "code",
   "execution_count": null,
   "id": "de2ce8d8",
   "metadata": {},
   "outputs": [],
   "source": [
    "def double_and_print(x):\n",
    "    print(x, \"->\", 2 * x)\n",
    "    return 2 * x\n",
    "\n",
    "\n",
    "s = range(3, 7)\n",
    "doubled = map(double_and_print, s)"
   ]
  },
  {
   "cell_type": "code",
   "execution_count": null,
   "id": "c48ea81d",
   "metadata": {},
   "outputs": [],
   "source": [
    "print(next(doubled))\n"
   ]
  },
  {
   "cell_type": "code",
   "execution_count": null,
   "id": "b7478045",
   "metadata": {},
   "outputs": [],
   "source": [
    "def letters_generator():\n",
    "    current = \"a\"\n",
    "    while current <= \"g\":\n",
    "        yield current\n",
    "        current = chr(ord(current) + 1)"
   ]
  },
  {
   "cell_type": "code",
   "execution_count": null,
   "id": "61b179b4",
   "metadata": {},
   "outputs": [],
   "source": [
    "for letter in letters_generator():\n",
    "    print(letter)"
   ]
  },
  {
   "cell_type": "code",
   "execution_count": 4,
   "id": "df6a5423",
   "metadata": {},
   "outputs": [
    {
     "name": "stdout",
     "output_type": "stream",
     "text": [
      "街边小摊开始卖东西：\n",
      "摊主拿出：0  摊主拿出：1  摊主拿出：4  摊主拿出：9  摊主拿出：16  摊主拿出：25  \n",
      "顾客回头再来，摊位已经空了：\n",
      "\n",
      "顾客回头再来，摊位已经空了：\n"
     ]
    }
   ],
   "source": [
    "# 可迭代示例 1：一次性的街边小摊（卖完就没有了，迭代后耗尽）\n",
    "class OneTimeStall:\n",
    "    def __init__(self, n):\n",
    "        self.n = n\n",
    "        self.current = 0\n",
    "\n",
    "    def __iter__(self):\n",
    "        return self  # 摊主是自己的迭代器——卖完就没了\n",
    "\n",
    "    def __next__(self):\n",
    "        if self.current > self.n:\n",
    "            raise StopIteration\n",
    "        value = self.current * self.current\n",
    "        self.current += 1\n",
    "        return value\n",
    "\n",
    "stall = OneTimeStall(5)\n",
    "print(\"街边小摊开始卖东西：\")\n",
    "for v in stall:\n",
    "    print(f\"摊主拿出：{v}\", end=\"  \")\n",
    "print(\"\\n顾客回头再来，摊位已经空了：\")\n",
    "for v in stall:\n",
    "    print(f\"摊主拿出：{v}\", end=\"  \")\n",
    "print(\"\\n顾客回头再来，摊位已经空了：\")"
   ]
  },
  {
   "cell_type": "code",
   "execution_count": 9,
   "id": "7103f4eb",
   "metadata": {},
   "outputs": [
    {
     "name": "stdout",
     "output_type": "stream",
     "text": [
      "处理第 1 批，大小 = 100000, 前 3 个样例 = [0, 1, 2]\n",
      "处理第 2 批，大小 = 100000, 前 3 个样例 = [100000, 100001, 100002]\n",
      "处理第 3 批，大小 = 100000, 前 3 个样例 = [200000, 200001, 200002]\n"
     ]
    }
   ],
   "source": [
    "# 现实编程示例：使用 yield 生成批次（batch）用于流式处理或模型训练，节省内存\n",
    "def batch_generator(iterable, batch_size):\n",
    "    it = iter(iterable)\n",
    "    batch = []\n",
    "    for item in it:\n",
    "        batch.append(item)\n",
    "        if len(batch) >= batch_size:\n",
    "            yield batch\n",
    "            batch = []\n",
    "    if batch:\n",
    "        yield batch\n",
    "\n",
    "# 模拟一个很大的数据流（range 是惰性生成，不会一次性占用内存）\n",
    "large_stream = range(1_000_000)\n",
    "\n",
    "# 逐批处理（这里只演示前 3 批以免输出过多）\n",
    "for idx, b in enumerate(batch_generator(large_stream, 100_000)):\n",
    "    print(f\"处理第 {idx+1} 批，大小 = {len(b)}, 前 3 个样例 = {b[:3]}\")\n",
    "    if idx >= 2:\n",
    "        break\n"
   ]
  },
  {
   "cell_type": "code",
   "execution_count": null,
   "id": "0145dc0e",
   "metadata": {},
   "outputs": [
    {
     "name": "stdout",
     "output_type": "stream",
     "text": [
      "oh, shit!\n",
      "<class 'generator'>\n",
      "<class 'function'>\n",
      "oh, shit!\n",
      "oh, sshit!\n",
      "oh, ssshit!\n",
      "oh, sssshit!\n"
     ]
    },
    {
     "data": {
      "text/plain": [
       "['oh, shit!', 'oh, sshit!', 'oh, ssshit!', 'oh, sssshit!']"
      ]
     },
     "execution_count": 1,
     "metadata": {},
     "output_type": "execute_result"
    }
   ],
   "source": [
    "def oh_shit(n):\n",
    "    for i in range(n):\n",
    "        s = \"oh, \" + (\"s\" * (i + 1)) + \"hit!\"\n",
    "        print(s)\n",
    "        yield s\n",
    "\n",
    "\n",
    "O = oh_shit(4)\n",
    "next(O)\n",
    "# >>> oh, shit!\n",
    "print(type(O))\n",
    "# >>> <class 'generator'>\n",
    "print(type(oh_shit))\n",
    "# >>> <class 'function'>\n",
    "\n",
    "list(oh_shit(4))\n",
    "# >>> oh, shit!\n",
    "# >>> oh, sshit!\n",
    "# >>> oh, ssshit!\n",
    "# >>> oh, sssshit!\n",
    "# >>> ['oh, shit!', 'oh, sshit!', 'oh, ssshit!', 'oh, sssshit!']"
   ]
  },
  {
   "cell_type": "code",
   "execution_count": 12,
   "id": "c3e9a778",
   "metadata": {},
   "outputs": [
    {
     "name": "stdout",
     "output_type": "stream",
     "text": [
      "早安！\n",
      "--------------------\n",
      "数字 0\n",
      "--------------------\n",
      "数字 1\n",
      "--------------------\n",
      "数字 2\n",
      "--------------------\n",
      "晚安！\n",
      "--------------------\n"
     ]
    }
   ],
   "source": [
    "# 更易理解的例子：早安、数字、晚安\n",
    "def greet_generator(x):\n",
    "    yield \"早安！\"  # 第一次产出\n",
    "    for i in range(x):\n",
    "        yield f\"数字 {i}\"  # 依次产出数字\n",
    "    yield \"晚安！\"  # 最后产出\n",
    "\n",
    "\n",
    "# 使用\n",
    "for item in greet_generator(3):\n",
    "    print(item)\n",
    "    print(\"-\" * 20)  # 分隔线，便于观察顺序"
   ]
  },
  {
   "cell_type": "code",
   "execution_count": 15,
   "id": "eceac5d0",
   "metadata": {},
   "outputs": [
    {
     "name": "stdout",
     "output_type": "stream",
     "text": [
      "oh, shit!\n",
      "--------------------\n",
      "早安！\n",
      "--------------------\n",
      "数字 0\n",
      "--------------------\n",
      "数字 1\n",
      "--------------------\n",
      "数字 2\n",
      "--------------------\n",
      "数字 3\n",
      "--------------------\n",
      "晚安！\n",
      "--------------------\n",
      "fine.\n",
      "--------------------\n"
     ]
    }
   ],
   "source": [
    "def main_generator():\n",
    "    yield \"oh, shit!\"\n",
    "    yield from greet_generator(4)\n",
    "    yield \"fine.\"\n",
    "\n",
    "for item in main_generator():\n",
    "    print(item)\n",
    "    print(\"-\" * 20)  # 分隔线，便于观察顺序"
   ]
  },
  {
   "cell_type": "code",
   "execution_count": 17,
   "id": "c4bf633e",
   "metadata": {},
   "outputs": [
    {
     "name": "stdout",
     "output_type": "stream",
     "text": [
      "开始扁平化...\n",
      "1 2 3 A B C Jesus Christ 扁平化结束。\n",
      "--------------------\n",
      "开始扁平化...\n",
      "1 2 3 A B C Jesus Christ 扁平化结束。\n"
     ]
    }
   ],
   "source": [
    "nested_list = [[1, 2, 3], [\"A\", \"B\", \"C\"], [\"Jesus\", \"Christ\"]]\n",
    "\n",
    "\n",
    "def flatten_old(a_list):\n",
    "    print(\"开始扁平化...\")\n",
    "    for sublist in a_list:\n",
    "        for item in sublist:\n",
    "            yield item\n",
    "    print(\"扁平化结束。\")\n",
    "\n",
    "\n",
    "# 使用\n",
    "for value in flatten_old(nested_list):\n",
    "    print(value, end=\" \")\n",
    "# 输出: 1 2 3 A B C 4 5\n",
    "print(\"-\" * 20)\n",
    "\n",
    "\n",
    "def flatten_new(a_list):\n",
    "    print(\"开始扁平化...\")\n",
    "    for sublist in a_list:\n",
    "        yield from sublist  # 关键在这里！\n",
    "    print(\"扁平化结束。\")\n",
    "\n",
    "\n",
    "# 使用\n",
    "for value in flatten_new(nested_list):\n",
    "    print(value, end=\" \")\n",
    "# 输出: 1 2 3 A B C 4 5"
   ]
  },
  {
   "cell_type": "code",
   "execution_count": 20,
   "id": "8b0ca7e7",
   "metadata": {},
   "outputs": [
    {
     "name": "stdout",
     "output_type": "stream",
     "text": [
      "Hello!\n",
      "--------------------\n",
      "欢迎使用本系统。\n",
      "--------------------\n",
      "天气预报：今日晴朗。\n",
      "--------------------\n",
      "气温：25°C。\n",
      "--------------------\n",
      "感谢使用。\n",
      "--------------------\n",
      "再见！\n",
      "--------------------\n"
     ]
    }
   ],
   "source": [
    "def greet():\n",
    "    yield \"Hello!\"\n",
    "    yield \"欢迎使用本系统。\"\n",
    "\n",
    "\n",
    "def report_weather():\n",
    "    # 假设这里有复杂的逻辑\n",
    "    yield \"天气预报：今日晴朗。\"\n",
    "    yield \"气温：25°C。\"\n",
    "\n",
    "\n",
    "def say_goodbye():\n",
    "    yield \"感谢使用。\"\n",
    "    yield \"再见！\"\n",
    "\n",
    "\n",
    "# --- 把它们串联起来 ---\n",
    "\n",
    "\n",
    "def main_task():\n",
    "    yield from greet()  # 委托给 greet 生成器\n",
    "    yield from report_weather()  # greet 完成后，委托给 report_weather\n",
    "    yield from say_goodbye()  # report_weather 完成后，委托给 say_goodbye\n",
    "\n",
    "\n",
    "# 使用\n",
    "for line in main_task():\n",
    "    print(line)\n",
    "    print(\"-\" * 20)"
   ]
  },
  {
   "cell_type": "code",
   "execution_count": 3,
   "id": "ee092390",
   "metadata": {
    "notebookRunGroups": {
     "groupValue": "1"
    }
   },
   "outputs": [
    {
     "name": "stdout",
     "output_type": "stream",
     "text": [
      "主协程开始...\n",
      "计算器已启动...\n",
      "发送 10, 当前平均值: 10.0\n",
      "发送 20, 当前平均值: 15.0\n",
      "发送 30, 当前平均值: 20.0\n",
      "最终结果: 共 3 个数, 平均值为 20.00\n",
      "主协程结束。\n"
     ]
    }
   ],
   "source": [
    "def averager():\n",
    "    \"\"\"一个计算平均值的协程\"\"\"\n",
    "    total = 0.0\n",
    "    count = 0\n",
    "    average = None\n",
    "    print(\"计算器已启动...\")\n",
    "    while True:\n",
    "        # yield 会暂停，并等待外部通过 send() 发送值过来\n",
    "        # term 就是接收到的值\n",
    "        term = yield average\n",
    "        if term is None:  # 特殊情况，处理退出\n",
    "            break\n",
    "        total += term\n",
    "        count += 1\n",
    "        average = total / count\n",
    "    return f\"最终结果: 共 {count} 个数, 平均值为 {average:.2f}\"\n",
    "\n",
    "\n",
    "# -----------------------------------------------------------------\n",
    "\n",
    "\n",
    "def main_coroutine():\n",
    "    \"\"\"主协程，委派任务给 averager\"\"\"\n",
    "    print(\"主协程开始...\")\n",
    "    # yield from 会建立一个双向通道\n",
    "    # 外部对 main_coroutine 的 send() 会直接传给 averager\n",
    "    result = yield from averager()\n",
    "    print(result)  # 打印 averager 的返回值\n",
    "    print(\"主协程结束。\")\n",
    "\n",
    "\n",
    "# -----------------------------------------------------------------\n",
    "\n",
    "# 1. 创建主协程对象\n",
    "coro = main_coroutine()\n",
    "# 2. 启动协程，执行到第一个 yield 处\n",
    "next(coro)  # 或者 coro.send(None)\n",
    "# 3. 通过 send() 发送数据，这些数据会穿过 yield from 直达 averager\n",
    "print(f\"发送 10, 当前平均值: {coro.send(10)}\")\n",
    "print(f\"发送 20, 当前平均值: {coro.send(20)}\")\n",
    "print(f\"发送 30, 当前平均值: {coro.send(30)}\")\n",
    "\n",
    "# 4. 发送 None 来关闭 averager 并获取返回值\n",
    "try:\n",
    "    coro.send(None)\n",
    "except StopIteration:\n",
    "    pass"
   ]
  },
  {
   "cell_type": "code",
   "execution_count": 7,
   "id": "2833c9e3",
   "metadata": {},
   "outputs": [
    {
     "name": "stdout",
     "output_type": "stream",
     "text": [
      "1\n",
      "--------------------\n",
      "2\n"
     ]
    }
   ],
   "source": [
    "class ElemIter:\n",
    "    def __init__(self, lst):\n",
    "        self.lst = lst\n",
    "        self.index = 0\n",
    "\n",
    "    def __iter__(self):\n",
    "        return self\n",
    "\n",
    "    def __next__(self):\n",
    "        if self.index < len(self.lst):\n",
    "            result = self.lst[self.index]\n",
    "            self.index += 1\n",
    "            return result\n",
    "        else:\n",
    "            raise StopIteration\n",
    "\n",
    "OP = ElemIter([1, 2, 3, 4, 5])\n",
    "print(OP.__next__())\n",
    "print(\"-\"*20)\n",
    "print(next(OP))"
   ]
  }
 ],
 "metadata": {
  "kernelspec": {
   "display_name": "base",
   "language": "python",
   "name": "python3"
  },
  "language_info": {
   "codemirror_mode": {
    "name": "ipython",
    "version": 3
   },
   "file_extension": ".py",
   "mimetype": "text/x-python",
   "name": "python",
   "nbconvert_exporter": "python",
   "pygments_lexer": "ipython3",
   "version": "3.13.2"
  }
 },
 "nbformat": 4,
 "nbformat_minor": 5
}
